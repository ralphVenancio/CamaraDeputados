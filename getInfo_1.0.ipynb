{
 "cells": [
  {
   "cell_type": "code",
   "execution_count": 1,
   "id": "paperback-essay",
   "metadata": {},
   "outputs": [],
   "source": [
    "from selenium import webdriver\n",
    "from bs4 import BeautifulSoup\n",
    "from datetime import date\n",
    "import pandas as pd\n",
    "import requests\n",
    "import time"
   ]
  },
  {
   "cell_type": "code",
   "execution_count": 2,
   "id": "ethical-sense",
   "metadata": {},
   "outputs": [],
   "source": [
    "today = date.today()\n",
    "anoAtual = today.strftime(\"%Y\")\n",
    "mesAtual = today.strftime(\"%m\")"
   ]
  },
  {
   "cell_type": "code",
   "execution_count": 3,
   "id": "respective-persian",
   "metadata": {},
   "outputs": [],
   "source": [
    "def getDeputadosList():\n",
    "    # Definições do Selenium,\n",
    "    driver = webdriver.Chrome(\"driver//chromedriver.exe\")\n",
    "    driver.get(\"https://www.camara.leg.br/deputados/quem-sao\")\n",
    "\n",
    "    # Definições do BeaultifulSoup.\n",
    "    page = requests.get(driver.current_url)\n",
    "    soup = BeautifulSoup(page.text, 'html.parser')\n",
    "    \n",
    "    # Corre select box na página pegando o código e o nome dos deputados.\n",
    "    lista_deputados = soup.find(id='parametro-nome').findAll('option')\n",
    "    listDeputadosCode = []\n",
    "    for item in lista_deputados:\n",
    "        if item.get('value'):\n",
    "            listDeputadosCode.append(\n",
    "                {\n",
    "                    'codigo': item.get('value'),\n",
    "                    'nome_deputado': item.getText()\n",
    "                }\n",
    "            )\n",
    "    dfListaDepCode = pd.DataFrame(listDeputadosCode)\n",
    "    driver.close()\n",
    "    return dfListaDepCode\n",
    "dfListaDepCode = getDeputadosList()"
   ]
  },
  {
   "cell_type": "code",
   "execution_count": 4,
   "id": "infectious-arnold",
   "metadata": {},
   "outputs": [
    {
     "data": {
      "text/html": [
       "<div>\n",
       "<style scoped>\n",
       "    .dataframe tbody tr th:only-of-type {\n",
       "        vertical-align: middle;\n",
       "    }\n",
       "\n",
       "    .dataframe tbody tr th {\n",
       "        vertical-align: top;\n",
       "    }\n",
       "\n",
       "    .dataframe thead th {\n",
       "        text-align: right;\n",
       "    }\n",
       "</style>\n",
       "<table border=\"1\" class=\"dataframe\">\n",
       "  <thead>\n",
       "    <tr style=\"text-align: right;\">\n",
       "      <th></th>\n",
       "      <th>codigo</th>\n",
       "      <th>nome_deputado</th>\n",
       "    </tr>\n",
       "  </thead>\n",
       "  <tbody>\n",
       "    <tr>\n",
       "      <th>0</th>\n",
       "      <td>204554</td>\n",
       "      <td>Abílio Santana</td>\n",
       "    </tr>\n",
       "    <tr>\n",
       "      <th>1</th>\n",
       "      <td>204521</td>\n",
       "      <td>Abou Anni</td>\n",
       "    </tr>\n",
       "    <tr>\n",
       "      <th>2</th>\n",
       "      <td>204379</td>\n",
       "      <td>Acácio Favacho</td>\n",
       "    </tr>\n",
       "    <tr>\n",
       "      <th>3</th>\n",
       "      <td>204560</td>\n",
       "      <td>Adolfo Viana</td>\n",
       "    </tr>\n",
       "    <tr>\n",
       "      <th>4</th>\n",
       "      <td>204528</td>\n",
       "      <td>Adriana Ventura</td>\n",
       "    </tr>\n",
       "    <tr>\n",
       "      <th>...</th>\n",
       "      <td>...</td>\n",
       "      <td>...</td>\n",
       "    </tr>\n",
       "    <tr>\n",
       "      <th>564</th>\n",
       "      <td>178889</td>\n",
       "      <td>Zé Carlos</td>\n",
       "    </tr>\n",
       "    <tr>\n",
       "      <th>565</th>\n",
       "      <td>204559</td>\n",
       "      <td>Zé Neto</td>\n",
       "    </tr>\n",
       "    <tr>\n",
       "      <th>566</th>\n",
       "      <td>160632</td>\n",
       "      <td>Zé Silva</td>\n",
       "    </tr>\n",
       "    <tr>\n",
       "      <th>567</th>\n",
       "      <td>204517</td>\n",
       "      <td>Zé Vitor</td>\n",
       "    </tr>\n",
       "    <tr>\n",
       "      <th>568</th>\n",
       "      <td>160592</td>\n",
       "      <td>Zeca Dirceu</td>\n",
       "    </tr>\n",
       "  </tbody>\n",
       "</table>\n",
       "<p>569 rows × 2 columns</p>\n",
       "</div>"
      ],
      "text/plain": [
       "     codigo    nome_deputado\n",
       "0    204554   Abílio Santana\n",
       "1    204521        Abou Anni\n",
       "2    204379   Acácio Favacho\n",
       "3    204560     Adolfo Viana\n",
       "4    204528  Adriana Ventura\n",
       "..      ...              ...\n",
       "564  178889        Zé Carlos\n",
       "565  204559          Zé Neto\n",
       "566  160632         Zé Silva\n",
       "567  204517         Zé Vitor\n",
       "568  160592      Zeca Dirceu\n",
       "\n",
       "[569 rows x 2 columns]"
      ]
     },
     "execution_count": 4,
     "metadata": {},
     "output_type": "execute_result"
    }
   ],
   "source": [
    "dfListaDepCode"
   ]
  },
  {
   "cell_type": "markdown",
   "id": "smaller-grade",
   "metadata": {},
   "source": [
    "### Pegando informações de gastos e recursos"
   ]
  },
  {
   "cell_type": "code",
   "execution_count": 5,
   "id": "separated-motivation",
   "metadata": {},
   "outputs": [],
   "source": [
    "dicGastosRecursos = {}"
   ]
  },
  {
   "cell_type": "code",
   "execution_count": 6,
   "id": "vanilla-incentive",
   "metadata": {},
   "outputs": [],
   "source": [
    "# Parametrização\n",
    "depCode = '204517'\n",
    "ano = anoAtual"
   ]
  },
  {
   "cell_type": "code",
   "execution_count": 8,
   "id": "liable-foster",
   "metadata": {},
   "outputs": [],
   "source": [
    "url = 'https://www.camara.leg.br/deputados/'+depCode+'?ano='+ano+''\n",
    "driver = webdriver.Chrome(\"driver//chromedriver.exe\")\n",
    "driver.get(url)\n",
    "\n",
    "page = requests.get(driver.current_url)\n",
    "soup = BeautifulSoup(page.text, 'html.parser')"
   ]
  },
  {
   "cell_type": "code",
   "execution_count": 17,
   "id": "brave-gather",
   "metadata": {},
   "outputs": [
    {
     "data": {
      "text/plain": [
       "['2019', '2020', '2021']"
      ]
     },
     "execution_count": 17,
     "metadata": {},
     "output_type": "execute_result"
    }
   ],
   "source": [
    "# Cria uma lista dos anos de mandato do deputado\n",
    "anosMandato = []\n",
    "srcAnosMandato = soup.find(class_='linha-tempo').findAll(class_='linha-tempo__marco')\n",
    "for item in srcAnosMandato:\n",
    "    anosMandato.append(item.getText())\n",
    "anosMandato"
   ]
  },
  {
   "cell_type": "code",
   "execution_count": null,
   "id": "every-recipient",
   "metadata": {},
   "outputs": [],
   "source": []
  }
 ],
 "metadata": {
  "kernelspec": {
   "display_name": "Python 3",
   "language": "python",
   "name": "python3"
  },
  "language_info": {
   "codemirror_mode": {
    "name": "ipython",
    "version": 3
   },
   "file_extension": ".py",
   "mimetype": "text/x-python",
   "name": "python",
   "nbconvert_exporter": "python",
   "pygments_lexer": "ipython3",
   "version": "3.6.8"
  }
 },
 "nbformat": 4,
 "nbformat_minor": 5
}
